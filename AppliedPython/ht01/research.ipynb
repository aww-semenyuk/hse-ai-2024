{
 "cells": [
  {
   "cell_type": "markdown",
   "metadata": {
    "id": "bVbHQbDDjw9i"
   },
   "source": [
    "## ДЗ 1 (ОБЯЗАТЕЛЬНОЕ): Анализ температурных данных и мониторинг текущей температуры через OpenWeatherMap API\n",
    "\n",
    "**Описание задания:**  \n",
    "Вы аналитик в компании, занимающейся изучением климатических изменений и мониторингом температур в разных городах. Вам нужно провести анализ исторических данных о температуре для выявления сезонных закономерностей и аномалий. Также необходимо подключить API OpenWeatherMap для получения текущей температуры в выбранных городах и сравнить её с историческими данными.\n",
    "\n",
    "\n",
    "### Цели задания:\n",
    "1. Провести **анализ временных рядов**, включая:\n",
    "   - Вычисление скользящего среднего и стандартного отклонения для сглаживания температурных колебаний.\n",
    "   - Определение аномалий на основе отклонений температуры от $ \\text{скользящее среднее} \\pm 2\\sigma $.\n",
    "   - Построение долгосрочных трендов изменения температуры.\n",
    "   - Любые дополнительные исследования будут вам в плюс.\n",
    "\n",
    "2. Осуществить **мониторинг текущей температуры**:\n",
    "   - Получить текущую температуру через OpenWeatherMap API.\n",
    "   - Сравнить её с историческим нормальным диапазоном для текущего сезона.\n",
    "\n",
    "3. Разработать **интерактивное приложение**:\n",
    "   - Дать пользователю возможность выбрать город.\n",
    "   - Отобразить результаты анализа температур, включая временные ряды, сезонные профили и аномалии.\n",
    "   - Провести анализ текущей температуры в контексте исторических данных.\n",
    "\n",
    "\n",
    "### Описание данных\n",
    "Исторические данные о температуре содержатся в файле `temperature_data.csv`, включают:\n",
    "  - `city`: Название города.\n",
    "  - `timestamp`: Дата (с шагом в 1 день).\n",
    "  - `temperature`: Среднесуточная температура (в °C).\n",
    "  - `season`: Сезон года (зима, весна, лето, осень).\n",
    "\n",
    "Код для генерации файла вы найдете ниже.\n",
    "\n",
    "### Этапы выполнения\n",
    "\n",
    "1. **Анализ исторических данных**:\n",
    "   - Вычислить **скользящее среднее** температуры с окном в 30 дней для сглаживания краткосрочных колебаний.\n",
    "   - Рассчитать среднюю температуру и стандартное отклонение для каждого сезона в каждом городе.\n",
    "   - Выявить аномалии, где температура выходит за пределы $ \\text{среднее} \\pm 2\\sigma $.\n",
    "   - Попробуйте распараллелить проведение этого анализа. Сравните скорость выполнения анализа с распараллеливанием и без него.\n",
    "\n",
    "2. **Мониторинг текущей температуры**:\n",
    "   - Подключить OpenWeatherMap API для получения текущей температуры города. Для получения API Key (бесплатно) надо зарегистрироваться на сайте. Обратите внимание, что API Key может активироваться только через 2-3 часа, это нормально. Посему получите ключ заранее.\n",
    "   - Получить текущую температуру для выбранного города через OpenWeatherMap API.\n",
    "   - Определить, является ли текущая температура нормальной, исходя из исторических данных для текущего сезона.\n",
    "   - Данные на самом деле не совсем реальные (сюрпрайз). Поэтому на момент эксперимента погода в Берлине, Каире и Дубае была в рамках нормы, а в Пекине и Москве аномальная. Протестируйте свое решение для разных городов.\n",
    "   - Попробуйте для получения текущей температуры использовать синхронные и асинхронные методы. Что здесь лучше использовать?\n",
    "\n",
    "3. **Создание приложения на Streamlit**:\n",
    "   - Добавить интерфейс для загрузки файла с историческими данными.\n",
    "   - Добавить интерфейс для выбора города (из выпадающего списка).\n",
    "   - Добавить форму для ввода API-ключа OpenWeatherMap. Когда он не введен, данные для текущей погоды не показываются. Если ключ некорректный, выведите на экран ошибку (должно приходить `{\"cod\":401, \"message\": \"Invalid API key. Please see https://openweathermap.org/faq#error401 for more info.\"}`).\n",
    "   - Отобразить:\n",
    "     - Описательную статистику по историческим данным для города, можно добавить визуализации.\n",
    "     - Временной ряд температур с выделением аномалий (например, точками другого цвета).\n",
    "     - Сезонные профили с указанием среднего и стандартного отклонения.\n",
    "   - Вывести текущую температуру через API и указать, нормальна ли она для сезона.\n",
    "\n",
    "### Критерии оценивания\n",
    "\n",
    "- Корректное проведение анализа данных – 1 балл.\n",
    "- Исследование распараллеливания анализа – 1 балл.\n",
    "- Корректный поиск аномалий – 1 балл.\n",
    "- Подключение к API и корректность выполнения запроса – 1 балл.\n",
    "- Проведение эксперимента с синхронным и асинхронным способом запроса к API – 1 балл.\n",
    "- Создание интерфейса приложения streamlit в соответствии с описанием – 3 балла.\n",
    "- Корректное отображение графиков и статистик, а также сезонных профилей – 1 балл.\n",
    "- Корректный вывод текущей температуры в выбранном городе и проведение проверки на ее аномальность – 1 балл.\n",
    "- Любая дополнительная функциональность приветствуется и оценивается бонусными баллами (не более 2 в сумме) на усмотрение проверяющего.\n",
    "\n",
    "### Формат сдачи домашнего задания\n",
    "\n",
    "Решение нужно развернуть в Streamlit Cloud (бесплатно)\n",
    "\n",
    "*   Создаем новый репозиторий на GitHub.  \n",
    "*   Загружаем проект.\n",
    "*   Создаем аккаунт в [Streamlit Cloud](https://streamlit.io/cloud).\n",
    "*   Авторизуемся в Streamlit Cloud.\n",
    "*   Создаем новое приложение в Streamlit Cloud и подключаем GitHub-репозиторий.\n",
    "*   Deploy!\n",
    "\n",
    "Сдать в форму необходимо:\n",
    "1. Ссылку на развернутое в Streamlit Cloud приложение.\n",
    "2. Ссылку на код. Все выводы про, например, использование параллельности/асинхронности опишите в комментариях.\n",
    "\n",
    "Не забудьте удалить ключ API и иную чувствительную информацию.\n",
    "\n",
    "### Полезные ссылки\n",
    "*   [Оформление задачи Титаник на Streamlit](https://github.com/evgpat/streamlit_demo)\n",
    "*   [Документация Streamlit](https://docs.streamlit.io/)\n",
    "*   [Блог о Streamlit](https://blog.streamlit.io/)"
   ]
  },
  {
   "cell_type": "code",
   "execution_count": 1,
   "metadata": {
    "id": "SsrwTMhRj6dK"
   },
   "outputs": [],
   "source": [
    "import pandas as pd\n",
    "import numpy as np\n",
    "\n",
    "# Реальные средние температуры (примерные данные) для городов по сезонам\n",
    "seasonal_temperatures = {\n",
    "    \"New York\": {\"winter\": 0, \"spring\": 10, \"summer\": 25, \"autumn\": 15},\n",
    "    \"London\": {\"winter\": 5, \"spring\": 11, \"summer\": 18, \"autumn\": 12},\n",
    "    \"Paris\": {\"winter\": 4, \"spring\": 12, \"summer\": 20, \"autumn\": 13},\n",
    "    \"Tokyo\": {\"winter\": 6, \"spring\": 15, \"summer\": 27, \"autumn\": 18},\n",
    "    \"Moscow\": {\"winter\": -10, \"spring\": 5, \"summer\": 18, \"autumn\": 8},\n",
    "    \"Sydney\": {\"winter\": 12, \"spring\": 18, \"summer\": 25, \"autumn\": 20},\n",
    "    \"Berlin\": {\"winter\": 0, \"spring\": 10, \"summer\": 20, \"autumn\": 11},\n",
    "    \"Beijing\": {\"winter\": -2, \"spring\": 13, \"summer\": 27, \"autumn\": 16},\n",
    "    \"Rio de Janeiro\": {\"winter\": 20, \"spring\": 25, \"summer\": 30, \"autumn\": 25},\n",
    "    \"Dubai\": {\"winter\": 20, \"spring\": 30, \"summer\": 40, \"autumn\": 30},\n",
    "    \"Los Angeles\": {\"winter\": 15, \"spring\": 18, \"summer\": 25, \"autumn\": 20},\n",
    "    \"Singapore\": {\"winter\": 27, \"spring\": 28, \"summer\": 28, \"autumn\": 27},\n",
    "    \"Mumbai\": {\"winter\": 25, \"spring\": 30, \"summer\": 35, \"autumn\": 30},\n",
    "    \"Cairo\": {\"winter\": 15, \"spring\": 25, \"summer\": 35, \"autumn\": 25},\n",
    "    \"Mexico City\": {\"winter\": 12, \"spring\": 18, \"summer\": 20, \"autumn\": 15},\n",
    "}\n",
    "\n",
    "# Сопоставление месяцев с сезонами\n",
    "month_to_season = {12: \"winter\", 1: \"winter\", 2: \"winter\",\n",
    "                   3: \"spring\", 4: \"spring\", 5: \"spring\",\n",
    "                   6: \"summer\", 7: \"summer\", 8: \"summer\",\n",
    "                   9: \"autumn\", 10: \"autumn\", 11: \"autumn\"}\n",
    "\n",
    "# Генерация данных о температуре\n",
    "def generate_realistic_temperature_data(cities, num_years=10):\n",
    "    dates = pd.date_range(start=\"2010-01-01\", periods=365 * num_years, freq=\"D\")\n",
    "    data = []\n",
    "\n",
    "    for city in cities:\n",
    "        for date in dates:\n",
    "            season = month_to_season[date.month]\n",
    "            mean_temp = seasonal_temperatures[city][season]\n",
    "            # Добавляем случайное отклонение\n",
    "            temperature = np.random.normal(loc=mean_temp, scale=5)\n",
    "            data.append({\"city\": city, \"timestamp\": date, \"temperature\": temperature})\n",
    "\n",
    "    df = pd.DataFrame(data)\n",
    "    df['season'] = df['timestamp'].dt.month.map(lambda x: month_to_season[x])\n",
    "    return df\n",
    "\n",
    "# Генерация данных\n",
    "data = generate_realistic_temperature_data(list(seasonal_temperatures.keys()))\n",
    "data.to_csv('temperature_data.csv', index=False)"
   ]
  },
  {
   "cell_type": "code",
   "execution_count": 2,
   "metadata": {
    "colab": {
     "base_uri": "https://localhost:8080/",
     "height": 206
    },
    "id": "dxz2QpS2DQ1N",
    "outputId": "51e93de0-4318-4a35-e125-10b215889783"
   },
   "outputs": [
    {
     "data": {
      "text/html": [
       "<div>\n",
       "<style scoped>\n",
       "    .dataframe tbody tr th:only-of-type {\n",
       "        vertical-align: middle;\n",
       "    }\n",
       "\n",
       "    .dataframe tbody tr th {\n",
       "        vertical-align: top;\n",
       "    }\n",
       "\n",
       "    .dataframe thead th {\n",
       "        text-align: right;\n",
       "    }\n",
       "</style>\n",
       "<table border=\"1\" class=\"dataframe\">\n",
       "  <thead>\n",
       "    <tr style=\"text-align: right;\">\n",
       "      <th></th>\n",
       "      <th>city</th>\n",
       "      <th>timestamp</th>\n",
       "      <th>temperature</th>\n",
       "      <th>season</th>\n",
       "    </tr>\n",
       "  </thead>\n",
       "  <tbody>\n",
       "    <tr>\n",
       "      <th>0</th>\n",
       "      <td>New York</td>\n",
       "      <td>2010-01-01</td>\n",
       "      <td>-9.537869</td>\n",
       "      <td>winter</td>\n",
       "    </tr>\n",
       "    <tr>\n",
       "      <th>1</th>\n",
       "      <td>New York</td>\n",
       "      <td>2010-01-02</td>\n",
       "      <td>2.192180</td>\n",
       "      <td>winter</td>\n",
       "    </tr>\n",
       "    <tr>\n",
       "      <th>2</th>\n",
       "      <td>New York</td>\n",
       "      <td>2010-01-03</td>\n",
       "      <td>-0.263588</td>\n",
       "      <td>winter</td>\n",
       "    </tr>\n",
       "    <tr>\n",
       "      <th>3</th>\n",
       "      <td>New York</td>\n",
       "      <td>2010-01-04</td>\n",
       "      <td>1.008150</td>\n",
       "      <td>winter</td>\n",
       "    </tr>\n",
       "    <tr>\n",
       "      <th>4</th>\n",
       "      <td>New York</td>\n",
       "      <td>2010-01-05</td>\n",
       "      <td>3.887297</td>\n",
       "      <td>winter</td>\n",
       "    </tr>\n",
       "  </tbody>\n",
       "</table>\n",
       "</div>"
      ],
      "text/plain": [
       "       city  timestamp  temperature  season\n",
       "0  New York 2010-01-01    -9.537869  winter\n",
       "1  New York 2010-01-02     2.192180  winter\n",
       "2  New York 2010-01-03    -0.263588  winter\n",
       "3  New York 2010-01-04     1.008150  winter\n",
       "4  New York 2010-01-05     3.887297  winter"
      ]
     },
     "execution_count": 2,
     "metadata": {},
     "output_type": "execute_result"
    }
   ],
   "source": [
    "data.head()"
   ]
  },
  {
   "cell_type": "code",
   "execution_count": 3,
   "metadata": {
    "colab": {
     "base_uri": "https://localhost:8080/"
    },
    "id": "yU-M8JqODUmc",
    "outputId": "a0f7c676-1089-4cf1-b6dd-c50a308f40cc"
   },
   "outputs": [
    {
     "data": {
      "text/plain": [
       "(54750, 4)"
      ]
     },
     "execution_count": 3,
     "metadata": {},
     "output_type": "execute_result"
    }
   ],
   "source": [
    "data.shape"
   ]
  },
  {
   "cell_type": "code",
   "execution_count": 4,
   "metadata": {
    "colab": {
     "base_uri": "https://localhost:8080/",
     "height": 210
    },
    "id": "xjVzR39ZtVQH",
    "outputId": "a941f1e2-4129-4184-9491-bfdacab98206"
   },
   "outputs": [
    {
     "data": {
      "text/plain": [
       "city                   object\n",
       "timestamp      datetime64[ns]\n",
       "temperature           float64\n",
       "season                 object\n",
       "dtype: object"
      ]
     },
     "execution_count": 4,
     "metadata": {},
     "output_type": "execute_result"
    }
   ],
   "source": [
    "data.dtypes"
   ]
  },
  {
   "cell_type": "code",
   "execution_count": 2,
   "metadata": {
    "id": "cyWHSfiStR_y"
   },
   "outputs": [],
   "source": [
    "import datetime\n",
    "import os\n",
    "import time\n",
    "from dotenv import load_dotenv\n",
    "from pathlib import Path\n",
    "\n",
    "import httpx\n",
    "import requests\n",
    "import asyncio\n",
    "\n",
    "import matplotlib.pyplot as plt\n",
    "from statsmodels.tsa.arima.model import ARIMA\n",
    "from concurrent.futures import ProcessPoolExecutor"
   ]
  },
  {
   "cell_type": "markdown",
   "metadata": {},
   "source": [
    "## Анализ исторических данных"
   ]
  },
  {
   "cell_type": "code",
   "execution_count": 6,
   "metadata": {
    "colab": {
     "base_uri": "https://localhost:8080/",
     "height": 206
    },
    "id": "vV-xD4HuSoc8",
    "outputId": "deb7ff52-0833-48b4-c625-db8122dfe458"
   },
   "outputs": [
    {
     "data": {
      "text/html": [
       "<div>\n",
       "<style scoped>\n",
       "    .dataframe tbody tr th:only-of-type {\n",
       "        vertical-align: middle;\n",
       "    }\n",
       "\n",
       "    .dataframe tbody tr th {\n",
       "        vertical-align: top;\n",
       "    }\n",
       "\n",
       "    .dataframe thead th {\n",
       "        text-align: right;\n",
       "    }\n",
       "</style>\n",
       "<table border=\"1\" class=\"dataframe\">\n",
       "  <thead>\n",
       "    <tr style=\"text-align: right;\">\n",
       "      <th></th>\n",
       "      <th>city</th>\n",
       "      <th>timestamp</th>\n",
       "      <th>temperature</th>\n",
       "      <th>season</th>\n",
       "      <th>mean_30d</th>\n",
       "      <th>std_30d</th>\n",
       "      <th>is_anomaly_temp</th>\n",
       "    </tr>\n",
       "  </thead>\n",
       "  <tbody>\n",
       "    <tr>\n",
       "      <th>0</th>\n",
       "      <td>New York</td>\n",
       "      <td>2010-01-01</td>\n",
       "      <td>-9.537869</td>\n",
       "      <td>winter</td>\n",
       "      <td>NaN</td>\n",
       "      <td>NaN</td>\n",
       "      <td>False</td>\n",
       "    </tr>\n",
       "    <tr>\n",
       "      <th>1</th>\n",
       "      <td>New York</td>\n",
       "      <td>2010-01-02</td>\n",
       "      <td>2.192180</td>\n",
       "      <td>winter</td>\n",
       "      <td>-9.537869</td>\n",
       "      <td>NaN</td>\n",
       "      <td>False</td>\n",
       "    </tr>\n",
       "    <tr>\n",
       "      <th>2</th>\n",
       "      <td>New York</td>\n",
       "      <td>2010-01-03</td>\n",
       "      <td>-0.263588</td>\n",
       "      <td>winter</td>\n",
       "      <td>-3.672844</td>\n",
       "      <td>8.294397</td>\n",
       "      <td>False</td>\n",
       "    </tr>\n",
       "    <tr>\n",
       "      <th>3</th>\n",
       "      <td>New York</td>\n",
       "      <td>2010-01-04</td>\n",
       "      <td>1.008150</td>\n",
       "      <td>winter</td>\n",
       "      <td>-2.536426</td>\n",
       "      <td>6.186506</td>\n",
       "      <td>False</td>\n",
       "    </tr>\n",
       "    <tr>\n",
       "      <th>4</th>\n",
       "      <td>New York</td>\n",
       "      <td>2010-01-05</td>\n",
       "      <td>3.887297</td>\n",
       "      <td>winter</td>\n",
       "      <td>-1.650282</td>\n",
       "      <td>5.353153</td>\n",
       "      <td>False</td>\n",
       "    </tr>\n",
       "  </tbody>\n",
       "</table>\n",
       "</div>"
      ],
      "text/plain": [
       "       city  timestamp  temperature  season  mean_30d   std_30d  \\\n",
       "0  New York 2010-01-01    -9.537869  winter       NaN       NaN   \n",
       "1  New York 2010-01-02     2.192180  winter -9.537869       NaN   \n",
       "2  New York 2010-01-03    -0.263588  winter -3.672844  8.294397   \n",
       "3  New York 2010-01-04     1.008150  winter -2.536426  6.186506   \n",
       "4  New York 2010-01-05     3.887297  winter -1.650282  5.353153   \n",
       "\n",
       "   is_anomaly_temp  \n",
       "0            False  \n",
       "1            False  \n",
       "2            False  \n",
       "3            False  \n",
       "4            False  "
      ]
     },
     "execution_count": 6,
     "metadata": {},
     "output_type": "execute_result"
    }
   ],
   "source": [
    "# Вычисляем скользящее среднее и стандартное отклонение температуры за 30 дней,\n",
    "# аномалии определяем по вхождению в интервал (mean-2*std, mean+2*std)\n",
    "\n",
    "data_w_anomaly = data.pipe(lambda df: pd.concat((\n",
    "    df,\n",
    "    df.groupby('city', sort=False) \\\n",
    "      .rolling(datetime.timedelta(days=30), on='timestamp', closed='left')['temperature'] \\\n",
    "      .agg({'mean_30d': 'mean', 'std_30d': 'std'}) \\\n",
    "      .reset_index(drop=True)), axis=1)) \\\n",
    "    .assign(is_anomaly_temp=lambda df: (df['temperature'] < df['mean_30d']-2*df['std_30d']) | (df['temperature'] > df['mean_30d']+2*df['std_30d']))\n",
    "\n",
    "data_w_anomaly.head()"
   ]
  },
  {
   "cell_type": "code",
   "execution_count": 7,
   "metadata": {
    "colab": {
     "base_uri": "https://localhost:8080/",
     "height": 368
    },
    "id": "E3DYvXm3VhFF",
    "outputId": "406938d5-93b3-4a50-b2e2-44ffbbf5a9e6"
   },
   "outputs": [
    {
     "data": {
      "image/png": "[encoded data removed]",
      "text/plain": [
       "<Figure size 1400x400 with 1 Axes>"
      ]
     },
     "metadata": {},
     "output_type": "display_data"
    }
   ],
   "source": [
    "# Визулизация временного ряда с отметкой аномалий на примере Нью-Йорка за 2014 г\n",
    "\n",
    "tmp_df = data_w_anomaly.loc[lambda df: (df['city']=='New York') & (df['timestamp'].dt.year == 2014)]\n",
    "\n",
    "fig, ax = plt.subplots(figsize=(14, 4))\n",
    "\n",
    "ax.plot('timestamp', 'temperature', data=tmp_df, lw=0.5, alpha=0.7, label='temperature')\n",
    "ax.scatter('timestamp', 'temperature', data=tmp_df[tmp_df['is_anomaly_temp']], marker='.', color='tab:red', s=20, label='anomalies')\n",
    "ax.fill_between(x=tmp_df['timestamp'],\n",
    "                y1=tmp_df['mean_30d']+2*tmp_df['std_30d'],\n",
    "                y2=tmp_df['mean_30d']-2*tmp_df['std_30d'],\n",
    "                alpha=0.2, color='skyblue', label='mean$\\pm$2*std (30d rolling)')\n",
    "\n",
    "ax.legend()\n",
    "\n",
    "plt.show()"
   ]
  },
  {
   "cell_type": "code",
   "execution_count": 8,
   "metadata": {
    "colab": {
     "base_uri": "https://localhost:8080/",
     "height": 332
    },
    "id": "3TAqjmxQSiFD",
    "outputId": "f611605a-055f-4386-e8fe-2f29da68d659"
   },
   "outputs": [
    {
     "data": {
      "text/html": [
       "<div>\n",
       "<style scoped>\n",
       "    .dataframe tbody tr th:only-of-type {\n",
       "        vertical-align: middle;\n",
       "    }\n",
       "\n",
       "    .dataframe tbody tr th {\n",
       "        vertical-align: top;\n",
       "    }\n",
       "\n",
       "    .dataframe thead th {\n",
       "        text-align: right;\n",
       "    }\n",
       "</style>\n",
       "<table border=\"1\" class=\"dataframe\">\n",
       "  <thead>\n",
       "    <tr style=\"text-align: right;\">\n",
       "      <th></th>\n",
       "      <th></th>\n",
       "      <th>mean</th>\n",
       "      <th>std</th>\n",
       "    </tr>\n",
       "    <tr>\n",
       "      <th>city</th>\n",
       "      <th>season</th>\n",
       "      <th></th>\n",
       "      <th></th>\n",
       "    </tr>\n",
       "  </thead>\n",
       "  <tbody>\n",
       "    <tr>\n",
       "      <th rowspan=\"4\" valign=\"top\">Beijing</th>\n",
       "      <th>autumn</th>\n",
       "      <td>15.955150</td>\n",
       "      <td>5.137036</td>\n",
       "    </tr>\n",
       "    <tr>\n",
       "      <th>spring</th>\n",
       "      <td>13.037418</td>\n",
       "      <td>4.953154</td>\n",
       "    </tr>\n",
       "    <tr>\n",
       "      <th>summer</th>\n",
       "      <td>27.041584</td>\n",
       "      <td>4.955197</td>\n",
       "    </tr>\n",
       "    <tr>\n",
       "      <th>winter</th>\n",
       "      <td>-1.883574</td>\n",
       "      <td>5.076129</td>\n",
       "    </tr>\n",
       "    <tr>\n",
       "      <th rowspan=\"4\" valign=\"top\">Berlin</th>\n",
       "      <th>autumn</th>\n",
       "      <td>10.937637</td>\n",
       "      <td>4.974784</td>\n",
       "    </tr>\n",
       "    <tr>\n",
       "      <th>spring</th>\n",
       "      <td>9.951456</td>\n",
       "      <td>5.157637</td>\n",
       "    </tr>\n",
       "    <tr>\n",
       "      <th>summer</th>\n",
       "      <td>20.127819</td>\n",
       "      <td>5.103087</td>\n",
       "    </tr>\n",
       "    <tr>\n",
       "      <th>winter</th>\n",
       "      <td>0.119542</td>\n",
       "      <td>4.873721</td>\n",
       "    </tr>\n",
       "  </tbody>\n",
       "</table>\n",
       "</div>"
      ],
      "text/plain": [
       "                     mean       std\n",
       "city    season                     \n",
       "Beijing autumn  15.955150  5.137036\n",
       "        spring  13.037418  4.953154\n",
       "        summer  27.041584  4.955197\n",
       "        winter  -1.883574  5.076129\n",
       "Berlin  autumn  10.937637  4.974784\n",
       "        spring   9.951456  5.157637\n",
       "        summer  20.127819  5.103087\n",
       "        winter   0.119542  4.873721"
      ]
     },
     "execution_count": 8,
     "metadata": {},
     "output_type": "execute_result"
    }
   ],
   "source": [
    "# Профиль сезона (для сравнения с текущей температурой в дальнейшем)\n",
    "\n",
    "data.groupby(['city', 'season'])['temperature'].agg(['mean', 'std']).head(8)"
   ]
  },
  {
   "cell_type": "markdown",
   "metadata": {},
   "source": [
    "### Пробуем мультипроцессность"
   ]
  },
  {
   "cell_type": "code",
   "execution_count": 9,
   "metadata": {
    "id": "tb65-r7Wj2WD"
   },
   "outputs": [],
   "source": [
    "# Функция для расчета аномалий и сезонных профилей для варианта без многопроцессности (по всем данным сразу)\n",
    "\n",
    "def analyze_temp_ts(data):\n",
    "    data_w_anomaly_ = data \\\n",
    "        .pipe(lambda df: pd.concat((\n",
    "            df,\n",
    "            df.groupby('city', sort=False) \\\n",
    "              .rolling(datetime.timedelta(days=30), on='timestamp', closed='left')['temperature'] \\\n",
    "              .agg({'mean_30d': 'mean', 'std_30d': 'std'}) \\\n",
    "              .reset_index(drop=True)), axis=1)) \\\n",
    "        .assign(is_anomaly_temp=lambda df: (df['temperature'] < df['mean_30d']-2*df['std_30d']) | (df['temperature'] > df['mean_30d']+2*df['std_30d']))\n",
    "\n",
    "    data_season_profiles_ = data \\\n",
    "        .groupby(['city', 'season'], as_index=False)['temperature'] \\\n",
    "        .agg(['mean', 'std', 'min', 'max'])\n",
    "\n",
    "    return data_w_anomaly_, data_season_profiles_"
   ]
  },
  {
   "cell_type": "code",
   "execution_count": 10,
   "metadata": {
    "colab": {
     "base_uri": "https://localhost:8080/"
    },
    "id": "ze6kjJr_j2GM",
    "outputId": "db41e871-c1ae-4301-da67-4d38fc6cdedd"
   },
   "outputs": [
    {
     "name": "stdout",
     "output_type": "stream",
     "text": [
      "       city  timestamp  temperature  season  mean_30d   std_30d  \\\n",
      "0  New York 2010-01-01    -9.537869  winter       NaN       NaN   \n",
      "1  New York 2010-01-02     2.192180  winter -9.537869       NaN   \n",
      "2  New York 2010-01-03    -0.263588  winter -3.672844  8.294397   \n",
      "3  New York 2010-01-04     1.008150  winter -2.536426  6.186506   \n",
      "4  New York 2010-01-05     3.887297  winter -1.650282  5.353153   \n",
      "\n",
      "   is_anomaly_temp  \n",
      "0            False  \n",
      "1            False  \n",
      "2            False  \n",
      "3            False  \n",
      "4            False  \n",
      "\n",
      "      city  season       mean       std        min        max\n",
      "0  Beijing  autumn  15.955150  5.137036  -2.751859  30.736015\n",
      "1  Beijing  spring  13.037418  4.953154  -1.800975  29.297721\n",
      "2  Beijing  summer  27.041584  4.955197   7.279044  42.392836\n",
      "3  Beijing  winter  -1.883574  5.076129 -18.008237  11.505051\n",
      "4   Berlin  autumn  10.937637  4.974784  -4.674211  26.586055\n"
     ]
    }
   ],
   "source": [
    "print(*map(lambda x: x.head(), analyze_temp_ts(data)), sep='\\n\\n')"
   ]
  },
  {
   "cell_type": "code",
   "execution_count": 13,
   "metadata": {
    "id": "HRRYGQzOeFDj"
   },
   "outputs": [],
   "source": [
    "# Функция для расчета аномалий и сезонных профилей для варианта с многопроцессностью (параллелить будем по городам)\n",
    "\n",
    "def analyze_city_temp_ts(data, city_name):\n",
    "    data_w_anomaly_ = data \\\n",
    "        .loc[lambda df: df['city']==city_name] \\\n",
    "        .pipe(lambda df: pd.concat((\n",
    "            df,\n",
    "            df.rolling(datetime.timedelta(days=30), on='timestamp', closed='left')['temperature'] \\\n",
    "              .agg({'mean_30d': 'mean', 'std_30d': 'std'}) \\\n",
    "              .reset_index(drop=True)), axis=1)) \\\n",
    "        .assign(is_anomaly_temp=lambda df: (df['temperature'] < df['mean_30d']-2*df['std_30d']) | (df['temperature'] > df['mean_30d']+2*df['std_30d']))\n",
    "\n",
    "    data_season_profiles_ = data \\\n",
    "        .loc[lambda df: df['city']==city_name] \\\n",
    "        .groupby('season', as_index=False)['temperature'] \\\n",
    "        .agg(['mean', 'std', 'min', 'max']) \\\n",
    "        .assign(city=city_name)\n",
    "\n",
    "    return data_w_anomaly_, data_season_profiles_"
   ]
  },
  {
   "cell_type": "code",
   "execution_count": 14,
   "metadata": {
    "colab": {
     "base_uri": "https://localhost:8080/"
    },
    "id": "YiDpV6FCcbO0",
    "outputId": "df3bd16d-203b-45ce-f403-dd91c5ad072f"
   },
   "outputs": [
    {
     "name": "stdout",
     "output_type": "stream",
     "text": [
      "       city  timestamp  temperature  season  mean_30d   std_30d  \\\n",
      "0  New York 2010-01-01    -9.537869  winter       NaN       NaN   \n",
      "1  New York 2010-01-02     2.192180  winter -9.537869       NaN   \n",
      "2  New York 2010-01-03    -0.263588  winter -3.672844  8.294397   \n",
      "3  New York 2010-01-04     1.008150  winter -2.536426  6.186506   \n",
      "4  New York 2010-01-05     3.887297  winter -1.650282  5.353153   \n",
      "\n",
      "   is_anomaly_temp  \n",
      "0            False  \n",
      "1            False  \n",
      "2            False  \n",
      "3            False  \n",
      "4            False  \n",
      "\n",
      "   season       mean       std        min        max      city\n",
      "0  autumn  14.717186  4.894717  -0.413580  29.514451  New York\n",
      "1  spring   9.707735  4.954075  -3.786167  28.433909  New York\n",
      "2  summer  24.593388  5.091372   8.623483  39.287688  New York\n",
      "3  winter  -0.293823  4.910040 -16.828045  18.985195  New York\n"
     ]
    }
   ],
   "source": [
    "print(*map(lambda x: x.head(), analyze_city_temp_ts(data, 'New York')), sep='\\n\\n')"
   ]
  },
  {
   "cell_type": "code",
   "execution_count": 20,
   "metadata": {
    "colab": {
     "base_uri": "https://localhost:8080/"
    },
    "id": "lusWYGNBl0G_",
    "outputId": "dae9933e-35d7-4845-f994-b83345e48986"
   },
   "outputs": [
    {
     "data": {
      "text/plain": [
       "(1368750, 4)"
      ]
     },
     "execution_count": 20,
     "metadata": {},
     "output_type": "execute_result"
    }
   ],
   "source": [
    "# Сгенерируем побольше данных для тестов\n",
    "\n",
    "data_testing = generate_realistic_temperature_data(list(seasonal_temperatures.keys()), num_years=250)\n",
    "data_testing.shape"
   ]
  },
  {
   "cell_type": "code",
   "execution_count": 24,
   "metadata": {
    "colab": {
     "base_uri": "https://localhost:8080/"
    },
    "id": "n3CY4sOUlLid",
    "outputId": "a94c8fc8-a1be-43ed-93aa-7c39c778a420"
   },
   "outputs": [
    {
     "name": "stdout",
     "output_type": "stream",
     "text": [
      "Results w/o multiprocessing:\n",
      "runs: 5, mean: 0.63s, std: 0.01s\n"
     ]
    }
   ],
   "source": [
    "runs = []\n",
    "for _ in range(5):\n",
    "    t1 = time.time()\n",
    "    analyze_temp_ts(data_testing)\n",
    "    t2 = time.time()\n",
    "    runs.append(t2-t1)\n",
    "\n",
    "print(f'Results w/o multiprocessing:\\nruns: {len(runs)}, mean: {np.array(runs).mean():.2f}s, std: {np.array(runs).std():.2f}s')"
   ]
  },
  {
   "cell_type": "code",
   "execution_count": 22,
   "metadata": {},
   "outputs": [
    {
     "data": {
      "text/plain": [
       "8"
      ]
     },
     "execution_count": 22,
     "metadata": {},
     "output_type": "execute_result"
    }
   ],
   "source": [
    "os.cpu_count()"
   ]
  },
  {
   "cell_type": "code",
   "execution_count": 25,
   "metadata": {
    "colab": {
     "base_uri": "https://localhost:8080/"
    },
    "id": "Hqge4qURca7U",
    "outputId": "c324326e-1672-4b91-aa06-61a3d74f24ff"
   },
   "outputs": [
    {
     "name": "stdout",
     "output_type": "stream",
     "text": [
      "Results with multiprocessing:\n",
      "runs: 5, mean: 1.90s, std: 0.15s\n"
     ]
    }
   ],
   "source": [
    "runs = []\n",
    "for _ in range(5):\n",
    "    with ProcessPoolExecutor(max_workers=max(1, os.cpu_count()-1)) as executor:\n",
    "        futures = [executor.submit(analyze_city_temp_ts, data_testing, city) for city in data['city'].unique()]\n",
    "\n",
    "        t1 = time.time()\n",
    "        results = [future.result() for future in futures]\n",
    "        t2 = time.time()\n",
    "        runs.append(t2-t1)\n",
    "\n",
    "print(f'Results with multiprocessing:\\nruns: {len(runs)}, mean: {np.array(runs).mean():.2f}s, std: {np.array(runs).std():.2f}s')"
   ]
  },
  {
   "cell_type": "markdown",
   "metadata": {},
   "source": [
    "Прироста скорости нет. И в целом не ожидалось, потому что выполняемые операции скорее всего хорошо векторизуются в pandas изначально + уходит больше времени на группировки по каждому городу в многопроцессном варианте + время на создание процесса, который в целом живет довольно мало."
   ]
  },
  {
   "cell_type": "markdown",
   "metadata": {},
   "source": [
    "## Forecast"
   ]
  },
  {
   "cell_type": "code",
   "execution_count": 30,
   "metadata": {
    "colab": {
     "base_uri": "https://localhost:8080/",
     "height": 430
    },
    "id": "2_lHYkhPstnx",
    "outputId": "2e7071b2-6f62-4e9e-a376-9c34e4cc258f"
   },
   "outputs": [
    {
     "data": {
      "image/png": "[encoded data removed]",
      "text/plain": [
       "<Figure size 1000x400 with 1 Axes>"
      ]
     },
     "metadata": {},
     "output_type": "display_data"
    }
   ],
   "source": [
    "# Попробуем на примере Нью-Йорка построить прогноз временного ряда на 7 дней (понадобится в дальнейшем для сервиса)\n",
    "\n",
    "tmp_df_fc = data[data['city']=='New York']\n",
    "\n",
    "arima = ARIMA(tmp_df_fc['temperature'], order=(5, 1, 0)).fit()\n",
    "\n",
    "forecast_periods = 7\n",
    "tmp_forecast = pd.DataFrame.from_dict(\n",
    "    {'timestamp': pd.date_range(start=tmp_df_fc['timestamp'].iloc[-1] + pd.Timedelta(days=1), periods=7, freq='D').values,\n",
    "     'temperature': arima.forecast(steps=7).values})\n",
    "\n",
    "fig, ax = plt.subplots(figsize=(10, 4))\n",
    "\n",
    "ax.plot('timestamp', 'temperature', data=tmp_df_fc.iloc[-1:-90:-1], label='historical data')\n",
    "ax.plot('timestamp', 'temperature', data=tmp_forecast, label='forecast')\n",
    "ax.legend()\n",
    "\n",
    "plt.show()"
   ]
  },
  {
   "cell_type": "markdown",
   "metadata": {},
   "source": [
    "## OpenWeather API"
   ]
  },
  {
   "cell_type": "markdown",
   "metadata": {
    "id": "j17n44xyZn8S"
   },
   "source": [
    "Сравним скорость сбора данных по api для синхронного и асинхронного вариантов"
   ]
  },
  {
   "cell_type": "code",
   "execution_count": 31,
   "metadata": {
    "colab": {
     "base_uri": "https://localhost:8080/"
    },
    "id": "f8-tgLnmxPu8",
    "outputId": "1d9c4b6b-bdd0-4c1e-bc5d-43c42d0dd5a5"
   },
   "outputs": [
    {
     "data": {
      "text/plain": [
       "True"
      ]
     },
     "execution_count": 31,
     "metadata": {},
     "output_type": "execute_result"
    }
   ],
   "source": [
    "dotenv_path = Path('.env')\n",
    "load_dotenv(dotenv_path=dotenv_path)"
   ]
  },
  {
   "cell_type": "code",
   "execution_count": 32,
   "metadata": {},
   "outputs": [
    {
     "data": {
      "text/plain": [
       "(200,\n",
       " {'coord': {'lon': -74.006, 'lat': 40.7143},\n",
       "  'weather': [{'id': 601,\n",
       "    'main': 'Snow',\n",
       "    'description': 'snow',\n",
       "    'icon': '13d'}],\n",
       "  'base': 'stations',\n",
       "  'main': {'temp': 271.41,\n",
       "   'feels_like': 264.41,\n",
       "   'temp_min': 270.14,\n",
       "   'temp_max': 272.58,\n",
       "   'pressure': 1016,\n",
       "   'humidity': 73,\n",
       "   'sea_level': 1016,\n",
       "   'grnd_level': 1014},\n",
       "  'visibility': 8047,\n",
       "  'wind': {'speed': 9.26, 'deg': 310, 'gust': 14.4},\n",
       "  'snow': {'1h': 0.51},\n",
       "  'clouds': {'all': 40},\n",
       "  'dt': 1734791074,\n",
       "  'sys': {'type': 2,\n",
       "   'id': 2037026,\n",
       "   'country': 'US',\n",
       "   'sunrise': 1734783411,\n",
       "   'sunset': 1734816710},\n",
       "  'timezone': -18000,\n",
       "  'id': 5128581,\n",
       "  'name': 'New York',\n",
       "  'cod': 200})"
      ]
     },
     "execution_count": 32,
     "metadata": {},
     "output_type": "execute_result"
    }
   ],
   "source": [
    "response = requests.get('https://api.openweathermap.org/data/2.5/weather', params={'q': 'New York', 'appid': os.environ.get('APPID')})\n",
    "response.status_code, response.json()"
   ]
  },
  {
   "cell_type": "code",
   "execution_count": 33,
   "metadata": {
    "id": "DgbmqbwR2zvC"
   },
   "outputs": [],
   "source": [
    "NUM_QUERIES = 30"
   ]
  },
  {
   "cell_type": "code",
   "execution_count": 35,
   "metadata": {
    "colab": {
     "base_uri": "https://localhost:8080/"
    },
    "id": "eZ6X-RPc26Jc",
    "outputId": "de20fca0-ccea-4f99-e6c0-6696c2647216"
   },
   "outputs": [
    {
     "name": "stdout",
     "output_type": "stream",
     "text": [
      "30 synchronous calls time: 6.45s\n"
     ]
    }
   ],
   "source": [
    "url = 'https://api.openweathermap.org/data/2.5/weather'\n",
    "city = 'New York'\n",
    "params={'q': city, 'appid': os.environ.get('APPID')}\n",
    "\n",
    "responses = []\n",
    "\n",
    "t1 = time.time()\n",
    "for _ in range(NUM_QUERIES):\n",
    "    try:\n",
    "        response = requests.get(url, params=params)\n",
    "        responses.append((response.status_code, response.json()))\n",
    "    except Exception as e:\n",
    "        print(f'Failed to fetch url \"{url}\": {e}')\n",
    "t2 = time.time()\n",
    "print(f'{NUM_QUERIES} synchronous calls time: {t2-t1:.2f}s')"
   ]
  },
  {
   "cell_type": "code",
   "execution_count": 36,
   "metadata": {
    "colab": {
     "base_uri": "https://localhost:8080/"
    },
    "id": "kzvcuiOu3-hI",
    "outputId": "c5557251-8bc9-4edb-cd3a-ea202a6e8a38"
   },
   "outputs": [
    {
     "data": {
      "text/plain": [
       "(200,\n",
       " {'coord': {'lon': -74.006, 'lat': 40.7143},\n",
       "  'weather': [{'id': 601,\n",
       "    'main': 'Snow',\n",
       "    'description': 'snow',\n",
       "    'icon': '13d'}],\n",
       "  'base': 'stations',\n",
       "  'main': {'temp': 271.42,\n",
       "   'feels_like': 264.42,\n",
       "   'temp_min': 270.14,\n",
       "   'temp_max': 272.58,\n",
       "   'pressure': 1016,\n",
       "   'humidity': 73,\n",
       "   'sea_level': 1016,\n",
       "   'grnd_level': 1014},\n",
       "  'visibility': 8047,\n",
       "  'wind': {'speed': 9.26, 'deg': 310, 'gust': 14.4},\n",
       "  'snow': {'1h': 0.51},\n",
       "  'clouds': {'all': 40},\n",
       "  'dt': 1734790947,\n",
       "  'sys': {'type': 2,\n",
       "   'id': 2037026,\n",
       "   'country': 'US',\n",
       "   'sunrise': 1734783411,\n",
       "   'sunset': 1734816710},\n",
       "  'timezone': -18000,\n",
       "  'id': 5128581,\n",
       "  'name': 'New York',\n",
       "  'cod': 200})"
      ]
     },
     "execution_count": 36,
     "metadata": {},
     "output_type": "execute_result"
    }
   ],
   "source": [
    "responses[-1]"
   ]
  },
  {
   "cell_type": "code",
   "execution_count": 37,
   "metadata": {
    "colab": {
     "base_uri": "https://localhost:8080/"
    },
    "id": "GhPSHb1304zW",
    "outputId": "92f1638a-e66b-4ddc-a42a-9b9bcdede854"
   },
   "outputs": [
    {
     "name": "stdout",
     "output_type": "stream",
     "text": [
      "30 async calls time: 0.83s\n"
     ]
    }
   ],
   "source": [
    "async def fetch_data(client, url, params):\n",
    "    try:\n",
    "        response = await client.get(url, params=params)\n",
    "        return response.status_code, response.json()\n",
    "    except httpx.RequestError as e:\n",
    "        print(f'Failed to fetch url \"{url}\": {e}')\n",
    "\n",
    "async def main(NUM_QUERIES):\n",
    "    url = 'https://api.openweathermap.org/data/2.5/weather'\n",
    "    city = 'New York'\n",
    "\n",
    "    async with httpx.AsyncClient() as client:\n",
    "        tasks = [fetch_data(client=client, url=url, params={'q': city, 'appid': os.environ.get('APPID')}) for _ in range(NUM_QUERIES)]\n",
    "        results = await asyncio.gather(*tasks)\n",
    "\n",
    "    return results\n",
    "\n",
    "t1 = time.time()\n",
    "responses = await main(NUM_QUERIES)\n",
    "t2 = time.time()\n",
    "print(f'{NUM_QUERIES} async calls time: {t2-t1:.2f}s')"
   ]
  },
  {
   "cell_type": "code",
   "execution_count": 38,
   "metadata": {
    "colab": {
     "base_uri": "https://localhost:8080/"
    },
    "id": "Bvku9G6e2r4P",
    "outputId": "f55ad5ef-eb1c-4a84-8952-6b879c52dfd2"
   },
   "outputs": [
    {
     "data": {
      "text/plain": [
       "(200,\n",
       " {'coord': {'lon': -74.006, 'lat': 40.7143},\n",
       "  'weather': [{'id': 601,\n",
       "    'main': 'Snow',\n",
       "    'description': 'snow',\n",
       "    'icon': '13d'}],\n",
       "  'base': 'stations',\n",
       "  'main': {'temp': 271.52,\n",
       "   'feels_like': 264.52,\n",
       "   'temp_min': 270.28,\n",
       "   'temp_max': 272.16,\n",
       "   'pressure': 1017,\n",
       "   'humidity': 72,\n",
       "   'sea_level': 1017,\n",
       "   'grnd_level': 1015},\n",
       "  'visibility': 8047,\n",
       "  'wind': {'speed': 10.28, 'deg': 84, 'gust': 13.41},\n",
       "  'snow': {'1h': 0.51},\n",
       "  'clouds': {'all': 40},\n",
       "  'dt': 1734791527,\n",
       "  'sys': {'type': 2,\n",
       "   'id': 2037026,\n",
       "   'country': 'US',\n",
       "   'sunrise': 1734783411,\n",
       "   'sunset': 1734816710},\n",
       "  'timezone': -18000,\n",
       "  'id': 5128581,\n",
       "  'name': 'New York',\n",
       "  'cod': 200})"
      ]
     },
     "execution_count": 38,
     "metadata": {},
     "output_type": "execute_result"
    }
   ],
   "source": [
    "responses[-1]"
   ]
  },
  {
   "cell_type": "markdown",
   "metadata": {},
   "source": [
    "Асинхронный вариант отработал практически в 8 раз быстрее, поэтому в сервисе будем использовать его"
   ]
  }
 ],
 "metadata": {
  "colab": {
   "provenance": []
  },
  "kernelspec": {
   "display_name": "Python 3 (ipykernel)",
   "language": "python",
   "name": "python3"
  },
  "language_info": {
   "codemirror_mode": {
    "name": "ipython",
    "version": 3
   },
   "file_extension": ".py",
   "mimetype": "text/x-python",
   "name": "python",
   "nbconvert_exporter": "python",
   "pygments_lexer": "ipython3",
   "version": "3.10.15"
  }
 },
 "nbformat": 4,
 "nbformat_minor": 4
}
