{
 "cells": [
  {
   "cell_type": "code",
   "execution_count": 1,
   "id": "b9f01c9d-0223-4063-9fbd-a989c8c827cf",
   "metadata": {},
   "outputs": [],
   "source": [
    "import requests\n",
    "import json\n",
    "import datetime\n",
    "import time"
   ]
  },
  {
   "cell_type": "code",
   "execution_count": 2,
   "id": "07ad5583-30b4-4eeb-9ff4-f7d40d5233e3",
   "metadata": {},
   "outputs": [],
   "source": [
    "BASE_URL = \"http://localhost:8000\""
   ]
  },
  {
   "cell_type": "markdown",
   "id": "5f5ed54e-dea4-4343-bae5-d6489e55203b",
   "metadata": {},
   "source": [
    "Пробуем получить информацию о текущем пользователе без авторизации"
   ]
  },
  {
   "cell_type": "code",
   "execution_count": 3,
   "id": "a9d2df34-38f9-45c9-bf0b-11fdce47ee5a",
   "metadata": {},
   "outputs": [
    {
     "data": {
      "text/plain": [
       "(401, {'detail': 'Not authenticated'})"
      ]
     },
     "execution_count": 3,
     "metadata": {},
     "output_type": "execute_result"
    }
   ],
   "source": [
    "response = requests.get(f\"{BASE_URL}/users/me\")\n",
    "response.status_code, response.json()"
   ]
  },
  {
   "cell_type": "markdown",
   "id": "d7a3c4fb-f0ef-409a-b9ec-bf503dbf4912",
   "metadata": {},
   "source": [
    "Регистрируем нового пользователя"
   ]
  },
  {
   "cell_type": "code",
   "execution_count": 4,
   "id": "a879bdb0-e0a0-4a59-a7ed-375562c8307d",
   "metadata": {},
   "outputs": [
    {
     "data": {
      "text/plain": [
       "(200,\n",
       " {'id': 1,\n",
       "  'email': 'user@example.com',\n",
       "  'registered_at': '2025-03-24T17:37:40.965914'})"
      ]
     },
     "execution_count": 4,
     "metadata": {},
     "output_type": "execute_result"
    }
   ],
   "source": [
    "payload = {\"email\": \"user@example.com\", \"password\": \"string\"}\n",
    "\n",
    "response = requests.post(f\"{BASE_URL}/register\", data=json.dumps(payload))\n",
    "response.status_code, response.json()"
   ]
  },
  {
   "cell_type": "markdown",
   "id": "86eee074-6ef8-4fe4-b0cb-8e7a4e1888c2",
   "metadata": {},
   "source": [
    "Пробуем зарегистрировать нового пользователя на уже существующий email"
   ]
  },
  {
   "cell_type": "code",
   "execution_count": 5,
   "id": "35c360ef-b747-4dae-a265-7d01727b282f",
   "metadata": {},
   "outputs": [
    {
     "data": {
      "text/plain": [
       "(400, {'detail': 'This email is already taken'})"
      ]
     },
     "execution_count": 5,
     "metadata": {},
     "output_type": "execute_result"
    }
   ],
   "source": [
    "response = requests.post(f\"{BASE_URL}/register\", data=json.dumps(payload))\n",
    "response.status_code, response.json()"
   ]
  },
  {
   "cell_type": "markdown",
   "id": "7a9ba338-69cc-4f98-a6f8-e1c2d3ff76de",
   "metadata": {},
   "source": [
    "Авторизуемся (получаем токен)"
   ]
  },
  {
   "cell_type": "code",
   "execution_count": 6,
   "id": "eb9e5ed8-9907-4c32-a62d-c5fb5abb5c0f",
   "metadata": {},
   "outputs": [
    {
     "data": {
      "text/plain": [
       "200"
      ]
     },
     "execution_count": 6,
     "metadata": {},
     "output_type": "execute_result"
    }
   ],
   "source": [
    "response = requests.post(f\"{BASE_URL}/login\", data=json.dumps(payload))\n",
    "token = response.json()[\"access_token\"]\n",
    "response.status_code"
   ]
  },
  {
   "cell_type": "markdown",
   "id": "7b53c865-429c-483e-a6fd-df7028b3724a",
   "metadata": {},
   "source": [
    "Еще раз пробуем получить информацию о текущем пользователе, но уже используем полученный токен"
   ]
  },
  {
   "cell_type": "code",
   "execution_count": 7,
   "id": "b3a25ccb-e288-4a59-9929-117e9b4a0386",
   "metadata": {},
   "outputs": [
    {
     "data": {
      "text/plain": [
       "(200,\n",
       " {'id': 1,\n",
       "  'email': 'user@example.com',\n",
       "  'registered_at': '2025-03-24T17:37:40.965914'})"
      ]
     },
     "execution_count": 7,
     "metadata": {},
     "output_type": "execute_result"
    }
   ],
   "source": [
    "headers = {\"Authorization\": f\"Bearer {token}\"}\n",
    "\n",
    "response = requests.get(f\"{BASE_URL}/users/me\", headers=headers)\n",
    "response.status_code, response.json()"
   ]
  },
  {
   "cell_type": "markdown",
   "id": "f7d84ba3-57ae-462b-a4ed-cf8727749c30",
   "metadata": {},
   "source": [
    "Создаем новую короткую ссылку"
   ]
  },
  {
   "cell_type": "code",
   "execution_count": 8,
   "id": "ba71798b-d70f-453c-a23e-d08bcbd0a603",
   "metadata": {},
   "outputs": [
    {
     "data": {
      "text/plain": [
       "(200,\n",
       " {'original_url': 'https://jsonplaceholder.typicode.com/posts/1',\n",
       "  'short_code': 'TM7GvKxa',\n",
       "  'created_at': '2025-03-24T17:37:41.037365',\n",
       "  'expires_at': '2025-04-23T17:37:41.037390'})"
      ]
     },
     "execution_count": 8,
     "metadata": {},
     "output_type": "execute_result"
    }
   ],
   "source": [
    "payload = {\n",
    "  \"original_url\": \"https://jsonplaceholder.typicode.com/posts/1\"\n",
    "}\n",
    "\n",
    "response = requests.post(f\"{BASE_URL}/links/shorten\", headers=headers, data=json.dumps(payload))\n",
    "response.status_code, response.json()"
   ]
  },
  {
   "cell_type": "markdown",
   "id": "16eb7d0b-4144-4613-b8a8-07ebec8eee28",
   "metadata": {},
   "source": [
    "Тестируем переход по созданной ссылке"
   ]
  },
  {
   "cell_type": "code",
   "execution_count": 9,
   "id": "330215f7-293c-4e0e-afe2-fd805f164398",
   "metadata": {},
   "outputs": [
    {
     "data": {
      "text/plain": [
       "(200,\n",
       " {'userId': 1,\n",
       "  'id': 1,\n",
       "  'title': 'sunt aut facere repellat provident occaecati excepturi optio reprehenderit',\n",
       "  'body': 'quia et suscipit\\nsuscipit recusandae consequuntur expedita et cum\\nreprehenderit molestiae ut ut quas totam\\nnostrum rerum est autem sunt rem eveniet architecto'})"
      ]
     },
     "execution_count": 9,
     "metadata": {},
     "output_type": "execute_result"
    }
   ],
   "source": [
    "short_code = response.json()['short_code']\n",
    "\n",
    "response = requests.get(f\"{BASE_URL}/links/{short_code}\")\n",
    "response.status_code, response.json()"
   ]
  },
  {
   "cell_type": "markdown",
   "id": "1910b4c7-e767-44a0-a103-631332dbe4ee",
   "metadata": {},
   "source": [
    "Создадим еще одну короткую ссылку с кастомным алиасом и укажем свою дату экспирации"
   ]
  },
  {
   "cell_type": "code",
   "execution_count": 10,
   "id": "6e7df258-8de6-4fec-89d2-55ef0ee041b5",
   "metadata": {},
   "outputs": [
    {
     "data": {
      "text/plain": [
       "(200,\n",
       " {'original_url': 'https://github.com/',\n",
       "  'short_code': 'my_custom_alias',\n",
       "  'created_at': '2025-03-24T17:37:41.037365',\n",
       "  'expires_at': '2025-05-24T00:00:00'})"
      ]
     },
     "execution_count": 10,
     "metadata": {},
     "output_type": "execute_result"
    }
   ],
   "source": [
    "custom_alias = \"my_custom_alias\"\n",
    "\n",
    "payload = {\n",
    "    \"original_url\": \"https://github.com/\",\n",
    "    \"custom_alias\": custom_alias,\n",
    "    \"expires_at\": datetime.datetime(2025, 5, 24).isoformat()\n",
    "}\n",
    "\n",
    "response = requests.post(f\"{BASE_URL}/links/shorten\", headers=headers, data=json.dumps(payload))\n",
    "response.status_code, response.json()"
   ]
  },
  {
   "cell_type": "markdown",
   "id": "31df9e53-1e92-4985-b983-7c7a8596eb65",
   "metadata": {},
   "source": [
    "Проверим поиск по оригинальному URL"
   ]
  },
  {
   "cell_type": "code",
   "execution_count": 11,
   "id": "d5de0a7d-da26-4e47-9ea3-6760bf8dd81a",
   "metadata": {},
   "outputs": [
    {
     "data": {
      "text/plain": [
       "(200,\n",
       " [{'original_url': 'https://github.com/',\n",
       "   'short_code': 'my_custom_alias',\n",
       "   'created_at': '2025-03-24T17:37:41.037365',\n",
       "   'expires_at': '2025-05-24T00:00:00'}])"
      ]
     },
     "execution_count": 11,
     "metadata": {},
     "output_type": "execute_result"
    }
   ],
   "source": [
    "payload = {\n",
    "    \"original_url\": \"https://github.com\"\n",
    "}\n",
    "\n",
    "response = requests.get(f\"{BASE_URL}/links/search\", headers=headers, params=payload)\n",
    "response.status_code, response.json()"
   ]
  },
  {
   "cell_type": "markdown",
   "id": "dd594255-e040-4f68-ad73-439904c63eb0",
   "metadata": {},
   "source": [
    "Изменим оригинальный URL для короткой ссылки"
   ]
  },
  {
   "cell_type": "code",
   "execution_count": 12,
   "id": "dd3d1f52-b2eb-4fa7-8fd5-ed6e70f3ef5c",
   "metadata": {},
   "outputs": [
    {
     "data": {
      "text/plain": [
       "(200,\n",
       " {'original_url': 'https://example.com/',\n",
       "  'short_code': 'my_custom_alias',\n",
       "  'created_at': '2025-03-24T17:37:41.037365',\n",
       "  'expires_at': '2025-05-24T00:00:00'})"
      ]
     },
     "execution_count": 12,
     "metadata": {},
     "output_type": "execute_result"
    }
   ],
   "source": [
    "params = {\"new_url\": \"https://example.com/\"}\n",
    "\n",
    "response = requests.put(f\"{BASE_URL}/links/{custom_alias}\", params=params, headers=headers)\n",
    "response.status_code, response.json()"
   ]
  },
  {
   "cell_type": "markdown",
   "id": "56423288-3836-44c8-8f2d-ce1926b3c03c",
   "metadata": {},
   "source": [
    "Удалим короткую ссылку"
   ]
  },
  {
   "cell_type": "code",
   "execution_count": 13,
   "id": "546cd7a0-c0f5-4bd4-be72-368744f8e27c",
   "metadata": {},
   "outputs": [
    {
     "data": {
      "text/plain": [
       "(200, {'message': 'Short URL deleted'})"
      ]
     },
     "execution_count": 13,
     "metadata": {},
     "output_type": "execute_result"
    }
   ],
   "source": [
    "response = requests.delete(f\"{BASE_URL}/links/{custom_alias}\", headers=headers)\n",
    "response.status_code, response.json()"
   ]
  },
  {
   "cell_type": "markdown",
   "id": "05913e16-893f-4ac8-803b-8a1e4c2df5ce",
   "metadata": {},
   "source": [
    "Для оставшейся (первой) короткой ссылки посмотрим статистику (уже должен быть 1 просмотр)"
   ]
  },
  {
   "cell_type": "code",
   "execution_count": 14,
   "id": "c45578b9-bdce-4d6c-aa40-18c69364fe08",
   "metadata": {},
   "outputs": [
    {
     "data": {
      "text/plain": [
       "(200,\n",
       " {'short_code': 'TM7GvKxa',\n",
       "  'created_at': '2025-03-24T17:37:41.037365',\n",
       "  'last_requested': '2025-03-24T17:37:41.041687',\n",
       "  'num_requests': 1})"
      ]
     },
     "execution_count": 14,
     "metadata": {},
     "output_type": "execute_result"
    }
   ],
   "source": [
    "response = requests.get(f\"{BASE_URL}/links/{short_code}/stats\", headers=headers)\n",
    "response.status_code, response.json()"
   ]
  },
  {
   "cell_type": "markdown",
   "id": "7c22fc10-1fa4-46fc-a6d5-65c9f3f39c95",
   "metadata": {},
   "source": [
    "Проверим кэширование"
   ]
  },
  {
   "cell_type": "code",
   "execution_count": 15,
   "id": "eb2dd167-d22d-46ac-9e4d-c556b9aee539",
   "metadata": {},
   "outputs": [],
   "source": [
    "# Проверяем, что на текущий момент кол-во запросов = 1\n",
    "response = requests.get(f\"{BASE_URL}/links/{short_code}/stats\")\n",
    "assert int(response.json()['num_requests']) == 1\n",
    "\n",
    "# Делаем новый (2-й запрос)\n",
    "# и сразу же после этого опять смотрим статистику,\n",
    "# т.к. запрос закэширован, результат все еще остается = 1\n",
    "requests.get(f\"{BASE_URL}/links/{short_code}\")\n",
    "\n",
    "response = requests.get(f\"{BASE_URL}/links/{short_code}/stats\")\n",
    "assert int(response.json()['num_requests']) == 1\n",
    "\n",
    "\n",
    "# Ждем минуту (время жизни кэша)\n",
    "# и проверяем, что эндпоинт выдаст актуальное значение = 2 \n",
    "time.sleep(61)\n",
    "response =  requests.get(f\"{BASE_URL}/links/{short_code}/stats\")\n",
    "assert int(response.json()['num_requests']) == 2"
   ]
  },
  {
   "cell_type": "markdown",
   "id": "d9bf1750-85b5-48a0-b0b7-f692a829ebcc",
   "metadata": {},
   "source": [
    "Проверим, что изменение/удаление короткой ссылки доступно только ее создателю"
   ]
  },
  {
   "cell_type": "code",
   "execution_count": 16,
   "id": "f79d34b7-fb7d-412a-b619-f9e834ac7136",
   "metadata": {},
   "outputs": [
    {
     "data": {
      "text/plain": [
       "(403, {'detail': 'Removal is only granted for creator'})"
      ]
     },
     "execution_count": 16,
     "metadata": {},
     "output_type": "execute_result"
    }
   ],
   "source": [
    "# Зарегистрируем нового пользователя и залогинимся под ним\n",
    "payload = {\"email\": \"user1@example.com\", \"password\": \"string\"}\n",
    "\n",
    "requests.post(f\"{BASE_URL}/register\", data=json.dumps(payload))\n",
    "\n",
    "token = requests.post(f\"{BASE_URL}/login\", data=json.dumps(payload)).json()[\"access_token\"]\n",
    "headers = {\"Authorization\": f\"Bearer {token}\"}\n",
    "\n",
    "# Попробуем удалить ссылку, созданную первым пользователем\n",
    "response = requests.delete(f\"{BASE_URL}/links/{short_code}\", headers=headers)\n",
    "response.status_code, response.json()"
   ]
  }
 ],
 "metadata": {
  "kernelspec": {
   "display_name": "Python 3 (ipykernel)",
   "language": "python",
   "name": "python3"
  },
  "language_info": {
   "codemirror_mode": {
    "name": "ipython",
    "version": 3
   },
   "file_extension": ".py",
   "mimetype": "text/x-python",
   "name": "python",
   "nbconvert_exporter": "python",
   "pygments_lexer": "ipython3",
   "version": "3.10.15"
  }
 },
 "nbformat": 4,
 "nbformat_minor": 5
}
