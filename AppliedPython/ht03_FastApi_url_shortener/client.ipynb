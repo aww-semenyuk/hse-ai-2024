{
 "cells": [
  {
   "cell_type": "code",
   "execution_count": null,
   "id": "b9f01c9d-0223-4063-9fbd-a989c8c827cf",
   "metadata": {},
   "outputs": [],
   "source": [
    "import requests\n",
    "import json\n",
    "import datetime"
   ]
  },
  {
   "cell_type": "code",
   "execution_count": null,
   "id": "07ad5583-30b4-4eeb-9ff4-f7d40d5233e3",
   "metadata": {},
   "outputs": [],
   "source": [
    "BASE_URL = \"http://localhost:8000\""
   ]
  },
  {
   "cell_type": "code",
   "execution_count": null,
   "id": "a9d2df34-38f9-45c9-bf0b-11fdce47ee5a",
   "metadata": {},
   "outputs": [],
   "source": [
    "response = requests.get(f\"{BASE_URL}/users/me\")\n",
    "response.status_code, response.json()"
   ]
  },
  {
   "cell_type": "code",
   "execution_count": null,
   "id": "a879bdb0-e0a0-4a59-a7ed-375562c8307d",
   "metadata": {},
   "outputs": [],
   "source": [
    "payload = {\"email\": \"user@example.com\", \"password\": \"string\"}\n",
    "\n",
    "response = requests.post(f\"{BASE_URL}/register\", data=json.dumps(payload))\n",
    "response.status_code, response.json()"
   ]
  },
  {
   "cell_type": "code",
   "execution_count": null,
   "id": "35c360ef-b747-4dae-a265-7d01727b282f",
   "metadata": {},
   "outputs": [],
   "source": [
    "payload = {\"email\": \"user1@example.com\", \"password\": \"string\"}\n",
    "\n",
    "response = requests.post(f\"{BASE_URL}/register\", data=json.dumps(payload))\n",
    "response.status_code, response.json()"
   ]
  },
  {
   "cell_type": "code",
   "execution_count": null,
   "id": "eb9e5ed8-9907-4c32-a62d-c5fb5abb5c0f",
   "metadata": {},
   "outputs": [],
   "source": [
    "response = requests.post(f\"{BASE_URL}/login\", data=json.dumps(payload))\n",
    "token = response.json()[\"access_token\"]\n",
    "response.status_code"
   ]
  },
  {
   "cell_type": "code",
   "execution_count": null,
   "id": "b3a25ccb-e288-4a59-9929-117e9b4a0386",
   "metadata": {},
   "outputs": [],
   "source": [
    "headers = {\"Authorization\": f\"Bearer {token}\"}\n",
    "\n",
    "response = requests.get(f\"{BASE_URL}/users/me\", headers=headers)\n",
    "response.status_code, response.json()"
   ]
  },
  {
   "cell_type": "code",
   "execution_count": null,
   "id": "ba71798b-d70f-453c-a23e-d08bcbd0a603",
   "metadata": {},
   "outputs": [],
   "source": [
    "payload = {\n",
    "  \"original_url\": \"https://example.com/\"\n",
    "}\n",
    "\n",
    "response = requests.post(f\"{BASE_URL}/links/shorten\", headers=headers, data=json.dumps(payload))\n",
    "response.status_code, response.json()"
   ]
  },
  {
   "cell_type": "code",
   "execution_count": null,
   "id": "6e7df258-8de6-4fec-89d2-55ef0ee041b5",
   "metadata": {},
   "outputs": [],
   "source": [
    "payload = {\n",
    "    \"original_url\": \"https://github1.com/\",\n",
    "    \"expires_at\": datetime.datetime(2025, 3, 24).isoformat()\n",
    "}\n",
    "\n",
    "response = requests.post(f\"{BASE_URL}/links/shorten\", headers=headers, data=json.dumps(payload))\n",
    "response.status_code, response.json()"
   ]
  },
  {
   "cell_type": "code",
   "execution_count": null,
   "id": "d5de0a7d-da26-4e47-9ea3-6760bf8dd81a",
   "metadata": {},
   "outputs": [],
   "source": [
    "payload = {\n",
    "    \"original_url\": \"https://github1.com/\"\n",
    "}\n",
    "\n",
    "response = requests.get(f\"{BASE_URL}/links/search\", headers=headers, params=payload)\n",
    "response.status_code, response.json()"
   ]
  },
  {
   "cell_type": "code",
   "execution_count": null,
   "id": "a81261fa-e6d9-4d8f-8337-51d2db3deff7",
   "metadata": {},
   "outputs": [],
   "source": [
    "response = requests.get(f\"{BASE_URL}/links/HTs39060\", headers=headers)"
   ]
  },
  {
   "cell_type": "code",
   "execution_count": null,
   "id": "8b7f784d-14c7-4a1a-bb81-f0536155b196",
   "metadata": {},
   "outputs": [],
   "source": [
    "response = requests.delete(f\"{BASE_URL}/links/WjPIi4GS\", headers=headers, data=json.dumps(payload))\n",
    "response.status_code, response.json()"
   ]
  },
  {
   "cell_type": "code",
   "execution_count": null,
   "id": "1e2db5c3-4b6d-4a0c-a7ea-765df2deade1",
   "metadata": {},
   "outputs": [],
   "source": [
    "response = requests.get(f\"{BASE_URL}/links/search\", headers=headers, params=payload)\n",
    "response.status_code, response.json()"
   ]
  },
  {
   "cell_type": "code",
   "execution_count": null,
   "id": "78d8d9f8-b055-4b27-bc5c-d79e0154ff93",
   "metadata": {},
   "outputs": [],
   "source": [
    "response = requests.get(f\"{BASE_URL}/links/HTs39060/stats\", headers=headers)\n",
    "response.status_code, response.json()"
   ]
  },
  {
   "cell_type": "code",
   "execution_count": null,
   "id": "b22bf094-28e9-44bf-9b60-b8aa166ac648",
   "metadata": {},
   "outputs": [],
   "source": [
    "params = {\"new_url\": \"https://example3.com/\"}\n",
    "\n",
    "response = requests.put(f\"{BASE_URL}/links/SaXOTxHd\", params=params)\n",
    "response.status_code, response.json()"
   ]
  },
  {
   "cell_type": "code",
   "execution_count": null,
   "id": "02e2df50-d5ca-432a-ba0d-d71ebbcfa5d6",
   "metadata": {},
   "outputs": [],
   "source": [
    "payload = {\n",
    "    \"original_url\": \"https://example3.com/\"\n",
    "}\n",
    "\n",
    "response = requests.get(f\"{BASE_URL}/links/search\", headers=headers, params=payload)\n",
    "response.status_code, response.json()"
   ]
  }
 ],
 "metadata": {
  "kernelspec": {
   "display_name": "Python 3 (ipykernel)",
   "language": "python",
   "name": "python3"
  },
  "language_info": {
   "codemirror_mode": {
    "name": "ipython",
    "version": 3
   },
   "file_extension": ".py",
   "mimetype": "text/x-python",
   "name": "python",
   "nbconvert_exporter": "python",
   "pygments_lexer": "ipython3",
   "version": "3.10.12"
  }
 },
 "nbformat": 4,
 "nbformat_minor": 5
}
